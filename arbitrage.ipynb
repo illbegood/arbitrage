{
 "cells": [
  {
   "cell_type": "code",
   "execution_count": 1,
   "metadata": {},
   "outputs": [],
   "source": [
    "import ccxt\n",
    "import math\n",
    "from datetime import datetime\n",
    "import numpy as np\n",
    "import re"
   ]
  },
  {
   "cell_type": "code",
   "execution_count": 2,
   "metadata": {},
   "outputs": [],
   "source": [
    "def fetch_exchange(exch_name, exch):\n",
    "    graph = {}\n",
    "    # load markets\n",
    "    market = exch.load_markets(True)\n",
    "\n",
    "    if (exch.has['fetchTickers']):\n",
    "        exch_tickers = exch.fetch_tickers()\n",
    "        for symbol in exch_tickers.keys():\n",
    "            try:\n",
    "                node_to, node_from = symbol.split('/')\n",
    "                try:\n",
    "                    w_to = -math.log(1 / float(exch_tickers[symbol]['info']['askPrice']))\n",
    "                    w_from = -math.log(float(exch_tickers[symbol]['info']['askPrice']))\n",
    "                    if node_from not in graph:\n",
    "                        graph[node_from] = {}\n",
    "                    graph[node_from][node_to] = {'weight': w_to, 'd': 'direct'}\n",
    "                    if node_to not in graph:\n",
    "                        graph[node_to] = {}\n",
    "                    graph[node_to][node_from] = {'weight': w_from, 'd': 'reverse'}\n",
    "                except:\n",
    "                    pass\n",
    "            except:\n",
    "                print('symbol error')\n",
    "    return graph"
   ]
  },
  {
   "cell_type": "code",
   "execution_count": 3,
   "metadata": {},
   "outputs": [],
   "source": [
    "def initialize(graph, source):\n",
    "    d = {} # Stands for destination\n",
    "    p = {} # Stands for predecessor\n",
    "    for node in graph:\n",
    "        d[node] = float('Inf') # We start admiting that the rest of nodes are very very far\n",
    "        p[node] = None\n",
    "    d[source] = 0 # For the source we know how to reach\n",
    "    return d, p\n",
    " \n",
    "def relax(node, neighbour, graph, d, p):\n",
    "    # If the distance between the node and the neighbour is lower than the one I have now\n",
    "    if d[neighbour] > d[node] + graph[node][neighbour]['weight']:\n",
    "        # Record this lower distance\n",
    "        d[neighbour]  = d[node] + graph[node][neighbour]['weight']\n",
    "        p[neighbour] = node\n",
    "        \n",
    "def retrace_negative_loop(p, start):\n",
    "    \n",
    "    arbitrageLoop = []\n",
    "    next_node = start\n",
    "    while True:\n",
    "        next_node = p[next_node]\n",
    "        if next_node not in arbitrageLoop:\n",
    "            arbitrageLoop.append(next_node)\n",
    "        else:\n",
    "            arbitrageLoop.append(next_node)\n",
    "            reversed_arbitrageLoop = arbitrageLoop[::-1]\n",
    "            return reversed_arbitrageLoop\n",
    "\n",
    "\n",
    "def bellman_ford(graph, source):\n",
    "    d, p = initialize(graph, source)\n",
    "    for i in range(len(graph) - 1): #Run this until is converges\n",
    "        for u in graph:\n",
    "            for v in graph[u]: #For each neighbour of u\n",
    "                #relax(u, v, graph, d, p) #Lets relax it\n",
    "                if d[v] > d[u] + graph[u][v]['weight']:\n",
    "                    # Record this lower distance\n",
    "                    d[v]  = d[u] + graph[u][v]['weight']\n",
    "                    p[v] = u\n",
    "    # Step 3: check for negative-weight cycles\n",
    "    for u in graph:\n",
    "        for v in graph[u]:\n",
    "            if d[v] > d[u] + graph[u][v]['weight']:\n",
    "                return(retrace_negative_loop(p, source))\n",
    "    return None\n",
    "\n",
    "\n",
    "def collect_negative_cycle():\n",
    "    binance = ccxt.binance({\n",
    "    'apiKey': 'y',\n",
    "    'secret': 'Y', })\n",
    "    \n",
    "    paths = []\n",
    "    graph = fetch_exchange('binance', binance)\n",
    "    #graph = {'USDT': {'BTC': {'weight': 18000}}, 'BTC': {'ETH': {'weight': -18000}}, 'ETH':{'USDT':{'weight': -100}}}\n",
    "    \n",
    "    path = bellman_ford(graph, 'USDT')\n",
    "    if path not in paths and not None:\n",
    "        paths.append(path)\n",
    "\n",
    "    for path in paths:\n",
    "        if path == None:\n",
    "            print(\"No opportunity here :(\")\n",
    "        else:\n",
    "            print(path)\n",
    "            graph_sum = 0\n",
    "            for i in range(len(path) - 1):\n",
    "                print(graph[path[i]][path[i + 1]]['weight'])\n",
    "                graph_sum += graph[path[i]][path[i + 1]]['weight']\n",
    "            print('total sum:')\n",
    "            print(graph_sum)\n",
    "            print(math.exp(-graph_sum))\n",
    "    "
   ]
  },
  {
   "cell_type": "code",
   "execution_count": 4,
   "metadata": {},
   "outputs": [
    {
     "name": "stdout",
     "output_type": "stream",
     "text": [
      "['AUD', 'USDT', 'WNXM', 'BUSD', 'SXP', 'AUD']\n",
      "0.3182237575644797\n",
      "3.3285191561641696\n",
      "-3.36719237635947\n",
      "0.0812112554248232\n",
      "-0.4007875185570534\n",
      "total sum:\n",
      "-0.04002572576305086\n",
      "1.0408375501881608\n",
      "CPU times: user 325 ms, sys: 17.8 ms, total: 343 ms\n",
      "Wall time: 1.56 s\n"
     ]
    }
   ],
   "source": [
    "%%time\n",
    "collect_negative_cycle()"
   ]
  },
  {
   "cell_type": "code",
   "execution_count": null,
   "metadata": {},
   "outputs": [],
   "source": []
  }
 ],
 "metadata": {
  "kernelspec": {
   "display_name": "Python 3",
   "language": "python",
   "name": "python3"
  },
  "language_info": {
   "codemirror_mode": {
    "name": "ipython",
    "version": 3
   },
   "file_extension": ".py",
   "mimetype": "text/x-python",
   "name": "python",
   "nbconvert_exporter": "python",
   "pygments_lexer": "ipython3",
   "version": "3.7.6"
  }
 },
 "nbformat": 4,
 "nbformat_minor": 4
}
