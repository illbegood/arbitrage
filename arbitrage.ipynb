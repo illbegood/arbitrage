{
 "cells": [
  {
   "cell_type": "code",
   "execution_count": 1,
   "metadata": {},
   "outputs": [],
   "source": [
    "import ccxt\n",
    "import math\n",
    "from datetime import datetime\n",
    "import numpy as np\n",
    "import re"
   ]
  },
  {
   "cell_type": "code",
   "execution_count": 2,
   "metadata": {},
   "outputs": [],
   "source": [
    "def fetch_exchange(exch_name, exch):\n",
    "    graph = {}\n",
    "    # load markets\n",
    "    market = exch.load_markets(True)\n",
    "\n",
    "    if (exch.has['fetchTickers']):\n",
    "        exch_tickers = exch.fetch_tickers()\n",
    "        for symbol in exch_tickers.keys():\n",
    "            try:\n",
    "                node_to, node_from = symbol.split('/')\n",
    "                try:\n",
    "                    w_to = -math.log(1 / float(exch_tickers[symbol]['info']['askPrice']))\n",
    "                    w_from = -math.log(float(exch_tickers[symbol]['info']['askPrice']))\n",
    "                    if node_from not in graph:\n",
    "                        graph[node_from] = {}\n",
    "                    graph[node_from][node_to] = {'weight': w_to, 'd': 'direct'}\n",
    "                    if node_to not in graph:\n",
    "                        graph[node_to] = {}\n",
    "                    graph[node_to][node_from] = {'weight': w_from, 'd': 'reverse'}\n",
    "                except:\n",
    "                    pass\n",
    "            except:\n",
    "                print('symbol error')\n",
    "    return graph"
   ]
  },
  {
   "cell_type": "code",
   "execution_count": 3,
   "metadata": {},
   "outputs": [],
   "source": [
    "def initialize(graph, source):\n",
    "    d = {} # Stands for destination\n",
    "    p = {} # Stands for predecessor\n",
    "    for node in graph:\n",
    "        d[node] = float('Inf') # We start admiting that the rest of nodes are very very far\n",
    "        p[node] = None\n",
    "    d[source] = 0 # For the source we know how to reach\n",
    "    return d, p\n",
    " \n",
    "def relax(node, neighbour, graph, d, p):\n",
    "    # If the distance between the node and the neighbour is lower than the one I have now\n",
    "    if d[neighbour] > d[node] + graph[node][neighbour]['weight']:\n",
    "        # Record this lower distance\n",
    "        d[neighbour]  = d[node] + graph[node][neighbour]['weight']\n",
    "        p[neighbour] = node\n",
    "        \n",
    "def retrace_negative_loop(p, start):\n",
    "    \n",
    "    arbitrageLoop = [start]\n",
    "    next_node = start\n",
    "    while True:\n",
    "        next_node = p[next_node]\n",
    "        if next_node not in arbitrageLoop:\n",
    "            arbitrageLoop.append(next_node)\n",
    "        else:\n",
    "            arbitrageLoop.append(next_node)\n",
    "            reversed_arbitrageLoop = arbitrageLoop[::-1]\n",
    "            return reversed_arbitrageLoop\n",
    "\n",
    "\n",
    "def bellman_ford(graph, source):\n",
    "    d, p = initialize(graph, source)\n",
    "    for i in range(len(graph) - 1): #Run this until is converges\n",
    "        for u in graph:\n",
    "            for v in graph[u]: #For each neighbour of u\n",
    "                #relax(u, v, graph, d, p) #Lets relax it\n",
    "                if d[v] > d[u] + graph[u][v]['weight']:\n",
    "                    # Record this lower distance\n",
    "                    d[v]  = d[u] + graph[u][v]['weight']\n",
    "                    p[v] = u\n",
    "    # Step 3: check for negative-weight cycles\n",
    "    for u in graph:\n",
    "        for v in graph[u]:\n",
    "            if d[v] > d[u] + graph[u][v]['weight']:\n",
    "                return(retrace_negative_loop(p, source))\n",
    "    return None\n",
    "\n",
    "\n",
    "def collect_negative_cycle():\n",
    "    binance = ccxt.binance({\n",
    "    'apiKey': 'y',\n",
    "    'secret': 'Y', })\n",
    "    \n",
    "    paths = []\n",
    "    graph = fetch_exchange('binance', binance)\n",
    "    #graph = {'USDT': {'BTC': {'weight': 18000}}, 'BTC': {'ETH': {'weight': -18000}}, 'ETH':{'USDT':{'weight': -100}}}\n",
    "    \n",
    "    path = bellman_ford(graph, 'USDT')\n",
    "    if path not in paths and not None:\n",
    "        paths.append(path)\n",
    "\n",
    "    for path in paths:\n",
    "        if path == None:\n",
    "            print(\"No opportunity here :(\")\n",
    "        else:\n",
    "            print(path)\n",
    "            graph_sum = 0\n",
    "            for i in range(len(path) - 1):\n",
    "                print(graph[path[i]][path[i + 1]]['weight'])\n",
    "                graph_sum += graph[path[i]][path[i + 1]]['weight']\n",
    "            print('total sum:')\n",
    "            print(graph_sum)\n",
    "            print(math.exp(-graph_sum))\n",
    "    "
   ]
  },
  {
   "cell_type": "code",
   "execution_count": 4,
   "metadata": {},
   "outputs": [
    {
     "name": "stdout",
     "output_type": "stream",
     "text": [
      "{'BTC': 'HOT', 'ETH': 'FRONT', 'LTC': 'BUSD', 'BNB': 'JST', 'NEO': 'BUSD', 'QTUM': 'BUSD', 'EOS': 'BUSD', 'SNT': 'BTC', 'BNT': 'BUSD', 'GAS': 'BTC', 'USDT': 'IDRT', 'WTC': 'USDT', 'LRC': 'USDT', 'YOYOW': 'BTC', 'OMG': 'USDT', 'ZRX': 'BUSD', 'SNGLS': 'BTC', 'BQX': 'BTC', 'KNC': 'BUSD', 'FUN': 'USDT', 'SNM': 'BTC', 'IOTA': 'BUSD', 'LINK': 'AUD', 'XVG': 'ETH', 'MDA': 'BTC', 'MTL': 'ETH', 'ETC': 'BUSD', 'MTH': 'BTC', 'DNT': 'BUSD', 'ZEC': 'BUSD', 'AST': 'BTC', 'DASH': 'BUSD', 'OAX': 'BTC', 'BTG': 'BTC', 'EVX': 'BTC', 'REQ': 'BTC', 'VIB': 'ETH', 'TRX': 'BUSD', 'POWR': 'BTC', 'ARK': 'BTC', 'XRP': 'AUD', 'ENJ': 'BUSD', 'STORJ': 'BUSD', 'KMD': 'BTC', 'RCN': 'BTC', 'NULS': 'BTC', 'RDN': 'BTC', 'XMR': 'BUSD', 'DLT': 'BTC', 'AMB': 'BTC', 'BAT': 'BUSD', 'BCPT': 'BTC', 'GVT': 'BTC', 'CDT': 'ETH', 'GXS': 'USDT', 'QSP': 'BTC', 'BTS': 'USDT', 'XZC': 'USDT', 'LSK': 'BTC', 'MANA': 'BUSD', 'BCD': 'BTC', 'ADX': 'BTC', 'ADA': 'BUSD', 'PPT': 'BTC', 'CMT': 'ETH', 'XLM': 'BUSD', 'CND': 'BTC', 'WABI': 'BNB', 'TNB': 'BTC', 'WAVES': 'BUSD', 'GTO': 'USDT', 'ICX': 'BUSD', 'OST': 'BTC', 'ELF': 'ETH', 'AION': 'BNB', 'NEBL': 'BTC', 'BRD': 'BNB', 'NAV': 'BTC', 'APPC': 'BTC', 'VIBE': 'BTC', 'RLC': 'USDT', 'PIVX': 'BTC', 'IOST': 'USDT', 'STEEM': 'BTC', 'NANO': 'BUSD', 'VIA': 'BTC', 'BLZ': 'BNB', 'AE': 'BTC', 'NCASH': 'ETH', 'POA': 'BTC', 'ZIL': 'BUSD', 'ONT': 'BUSD', 'XEM': 'BTC', 'WAN': 'USDT', 'WPR': 'BTC', 'QLC': 'ETH', 'SYS': 'BTC', 'GRS': 'BTC', 'GNT': 'BTC', 'LOOM': 'ETH', 'REP': 'BTC', 'TUSD': 'BTT', 'ZEN': 'USDT', 'SKY': 'BTC', 'CVC': 'USDT', 'THETA': 'USDT', 'IOTX': 'USDT', 'QKC': 'ETH', 'AGI': 'BTC', 'NXS': 'BTC', 'DATA': 'BUSD', 'SC': 'BNB', 'NPXS': 'USDT', 'KEY': 'USDT', 'NAS': 'BTC', 'MFT': 'BNB', 'DENT': 'USDT', 'ARDR': 'BTC', 'HOT': 'USDT', 'VET': 'BUSD', 'DOCK': 'USDT', 'POLY': 'BTC', 'HC': 'BTC', 'GO': 'BTC', 'PAX': 'BCH', 'RVN': 'BUSD', 'DCR': 'BTC', 'MITH': 'USDT', 'BCH': 'BUSD', 'REN': 'USDT', 'USDC': 'BTT', 'BTT': 'BUSD', 'ONG': 'USDT', 'FET': 'USDT', 'CELR': 'USDT', 'MATIC': 'BUSD', 'ATOM': 'BUSD', 'PHB': 'TUSD', 'TFUEL': 'USDT', 'ONE': 'BUSD', 'FTM': 'USDT', 'ALGO': 'BUSD', 'DOGE': 'BUSD', 'DUSK': 'USDT', 'ANKR': 'USDT', 'WIN': 'USDC', 'COS': 'USDT', 'COCOS': 'USDT', 'TOMO': 'BUSD', 'PERL': 'USDT', 'CHZ': 'USDT', 'BAND': 'USDT', 'BUSD': 'WNXM', 'BEAM': 'USDT', 'XTZ': 'BUSD', 'HBAR': 'BUSD', 'NKN': 'USDT', 'STX': 'BTC', 'KAVA': 'USDT', 'NGN': 'BUSD', 'ARPA': 'USDT', 'CTXC': 'USDT', 'RUB': 'BUSD', 'TROY': 'BNB', 'VITE': 'USDT', 'FTT': 'USDT', 'TRY': 'AVAX', 'EUR': 'DOT', 'OGN': 'USDT', 'DREP': 'BTC', 'TCT': 'USDT', 'WRX': 'BUSD', 'LTO': 'BTC', 'MBL': 'BNB', 'COTI': 'USDT', 'STPT': 'USDT', 'ZAR': 'BUSD', 'BKRW': 'AAVE', 'SOL': 'BUSD', 'IDRT': 'BUSD', 'CTSI': 'BUSD', 'HIVE': 'USDT', 'CHR': 'USDT', 'BTCUP': 'USDT', 'BTCDOWN': 'USDT', 'MDT': 'USDT', 'STMX': 'USDT', 'IQ': 'BUSD', 'PNT': 'USDT', 'GBP': 'SXP', 'DGB': 'BUSD', 'UAH': 'BTC', 'COMP': 'BUSD', 'BIDR': 'SXP', 'SXP': 'BUSD', 'SNX': 'BUSD', 'ETHUP': 'USDT', 'ETHDOWN': 'USDT', 'ADAUP': 'USDT', 'ADADOWN': 'USDT', 'LINKUP': 'USDT', 'LINKDOWN': 'USDT', 'VTHO': 'USDT', 'IRIS': 'BTC', 'MKR': 'BUSD', 'RUNE': 'BUSD', 'AUD': 'SXP', 'FIO': 'BUSD', 'BNBUP': 'USDT', 'BNBDOWN': 'USDT', 'XTZUP': 'USDT', 'XTZDOWN': 'USDT', 'AVA': 'BUSD', 'BAL': 'BUSD', 'YFI': 'BUSD', 'DAI': 'BUSD', 'JST': 'BUSD', 'SRM': 'BUSD', 'ANT': 'BUSD', 'CRV': 'BUSD', 'SAND': 'BUSD', 'OCEAN': 'BUSD', 'NMR': 'BUSD', 'DOT': 'BUSD', 'LUNA': 'BUSD', 'IDEX': 'BUSD', 'RSR': 'BUSD', 'PAXG': 'USDT', 'WNXM': 'USDT', 'TRB': 'USDT', 'BZRX': 'BUSD', 'WBTC': 'BTC', 'SUSHI': 'BUSD', 'YFII': 'BUSD', 'KSM': 'BUSD', 'EGLD': 'BUSD', 'DIA': 'BUSD', 'UMA': 'USDT', 'EOSUP': 'USDT', 'EOSDOWN': 'USDT', 'TRXUP': 'USDT', 'TRXDOWN': 'USDT', 'XRPUP': 'USDT', 'XRPDOWN': 'USDT', 'DOTUP': 'USDT', 'DOTDOWN': 'USDT', 'BEL': 'BUSD', 'WING': 'BUSD', 'SWRV': 'BUSD', 'LTCUP': 'USDT', 'LTCDOWN': 'USDT', 'CREAM': 'BUSD', 'UNI': 'BUSD', 'NBS': 'USDT', 'OXT': 'USDT', 'SUN': 'USDT', 'AVAX': 'BUSD', 'HNT': 'USDT', 'BAKE': 'BNB', 'BURGER': 'BNB', 'FLM': 'BUSD', 'SCRT': 'BTC', 'CAKE': 'BUSD', 'SPARTA': 'BNB', 'UNIUP': 'USDT', 'UNIDOWN': 'USDT', 'ORN': 'USDT', 'UTK': 'USDT', 'XVS': 'BUSD', 'ALPHA': 'BUSD', 'VIDT': 'BUSD', 'AAVE': 'BUSD', 'BRL': 'BUSD', 'NEAR': 'BUSD', 'SXPUP': 'USDT', 'SXPDOWN': 'USDT', 'FIL': 'BUSD', 'FILUP': 'USDT', 'FILDOWN': 'USDT', 'YFIUP': 'USDT', 'YFIDOWN': 'USDT', 'INJ': 'BUSD', 'AERGO': 'BUSD', 'EASY': 'ETH', 'AUDIO': 'BUSD', 'CTK': 'BUSD', 'BOT': 'BUSD', 'AKRO': 'USDT', 'KP3R': 'BUSD', 'AXS': 'BUSD', 'HARD': 'BUSD', 'RENBTC': 'BTC', 'SLP': 'ETH', 'CVP': 'ETH', 'STRAX': 'BUSD', 'FOR': 'BUSD', 'UNFI': 'USDT', 'FRONT': 'BUSD', 'BCHA': 'BUSD', 'ROSE': 'BUSD'}\n",
      "['USDT', 'WNXM', 'BUSD', 'IDRT', 'USDT']\n",
      "3.3290925301271996\n",
      "-3.3671578894386314\n",
      "-9.560856388599332\n",
      "9.559023465985362\n",
      "total sum:\n",
      "-0.039898281925401236\n",
      "1.0407049103086423\n",
      "CPU times: user 322 ms, sys: 16.9 ms, total: 339 ms\n",
      "Wall time: 1.55 s\n"
     ]
    }
   ],
   "source": [
    "%%time\n",
    "collect_negative_cycle()"
   ]
  },
  {
   "cell_type": "code",
   "execution_count": 5,
   "metadata": {},
   "outputs": [
    {
     "name": "stdout",
     "output_type": "stream",
     "text": [
      "['USDT', 'WNXM', 'BUSD', 'WING', 'USDT']\n"
     ]
    }
   ],
   "source": [
    "path = ['USDT', 'WING', 'BUSD', 'WNXM', 'USDT']\n",
    "print(path[::-1])"
   ]
  },
  {
   "cell_type": "code",
   "execution_count": null,
   "metadata": {},
   "outputs": [],
   "source": []
  }
 ],
 "metadata": {
  "kernelspec": {
   "display_name": "Python 3",
   "language": "python",
   "name": "python3"
  },
  "language_info": {
   "codemirror_mode": {
    "name": "ipython",
    "version": 3
   },
   "file_extension": ".py",
   "mimetype": "text/x-python",
   "name": "python",
   "nbconvert_exporter": "python",
   "pygments_lexer": "ipython3",
   "version": "3.7.6"
  }
 },
 "nbformat": 4,
 "nbformat_minor": 4
}
